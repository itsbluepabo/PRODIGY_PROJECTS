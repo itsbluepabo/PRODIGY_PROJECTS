{
  "cells": [
    {
      "cell_type": "code",
      "execution_count": null,
      "metadata": {
        "_uuid": "dd82702380162e9587a0eae2f644dae2764f93c8",
        "id": "UDye7XPYVItx"
      },
      "outputs": [],
      "source": [
        "import tensorflow as tf\n",
        "import matplotlib.image as img\n",
        "%matplotlib inline\n",
        "import numpy as np\n",
        "from collections import defaultdict\n",
        "import collections\n",
        "from shutil import copy\n",
        "from shutil import copytree, rmtree\n",
        "import tensorflow.keras.backend as K\n",
        "from tensorflow.keras.models import load_model\n",
        "from tensorflow.keras.preprocessing import image\n",
        "import matplotlib.pyplot as plt\n",
        "import numpy as np\n",
        "import os\n",
        "import random\n",
        "import tensorflow as tf\n",
        "import tensorflow.keras.backend as K\n",
        "from tensorflow.keras import regularizers\n",
        "from tensorflow.keras.applications.inception_v3 import InceptionV3\n",
        "from tensorflow.keras.models import Sequential, Model\n",
        "from tensorflow.keras.layers import Dense, Dropout, Activation, Flatten\n",
        "from tensorflow.keras.layers import Convolution2D, MaxPooling2D, ZeroPadding2D, GlobalAveragePooling2D, AveragePooling2D\n",
        "from tensorflow.keras.preprocessing.image import ImageDataGenerator\n",
        "from tensorflow.keras.callbacks import ModelCheckpoint, CSVLogger\n",
        "from tensorflow.keras.optimizers import SGD\n",
        "from tensorflow.keras.regularizers import l2\n",
        "from tensorflow import keras\n",
        "from tensorflow.keras import models\n",
        "import cv2"
      ]
    },
    {
      "cell_type": "code",
      "execution_count": null,
      "metadata": {
        "_uuid": "70f06e9a535b5f32ad9d927fc00e767dd72f17dd",
        "id": "JOZZbCDoP-Hy"
      },
      "outputs": [],
      "source": [
        "# Check if GPU is enabled\n",
        "print(tf.__version__)\n",
        "print(tf.test.gpu_device_name())"
      ]
    },
    {
      "cell_type": "code",
      "execution_count": null,
      "metadata": {
        "_uuid": "339ff95b36c15cfb16a9316d2a19cc89aaaf7160",
        "execution": {
          "iopub.execute_input": "2023-06-04T06:59:08.992701Z",
          "iopub.status.busy": "2023-06-04T06:59:08.992180Z",
          "iopub.status.idle": "2023-06-04T06:59:08.999368Z",
          "shell.execute_reply": "2023-06-04T06:59:08.998401Z",
          "shell.execute_reply.started": "2023-06-04T06:59:08.992650Z"
        },
        "id": "f88XvEBTQBS9"
      },
      "outputs": [],
      "source": [
        "# Helper function to download data and extract\n",
        "def get_data_extract():\n",
        "  if \"food-101\" in os.listdir():\n",
        "    print(\"Dataset already exists\")\n",
        "  else:\n",
        "    print(\"Downloading the data...\")\n",
        "    !wget http://data.vision.ee.ethz.ch/cvl/food-101.tar.gz\n",
        "    print(\"Dataset downloaded!\")\n",
        "    print(\"Extracting data..\")\n",
        "    !tar xzvf food-101.tar.gz\n",
        "    print(\"Extraction done!\")"
      ]
    },
    {
      "cell_type": "markdown",
      "metadata": {
        "_uuid": "c36f8e6e00be58a643a598469cc3fd9a8c47a912",
        "id": "gwLp2G9ae9xC"
      },
      "source": [
        "* **Commented the below cell as the Food-101 dataset is available from Kaggle Datasets and need not be downloaded..**"
      ]
    },
    {
      "cell_type": "code",
      "execution_count": null,
      "metadata": {
        "_uuid": "05fd6dae2dde446b3bd4a17f81a202391f9328d3",
        "execution": {
          "iopub.execute_input": "2023-06-04T06:59:09.001528Z",
          "iopub.status.busy": "2023-06-04T06:59:09.001049Z",
          "iopub.status.idle": "2023-06-04T06:59:09.012205Z",
          "shell.execute_reply": "2023-06-04T06:59:09.011378Z",
          "shell.execute_reply.started": "2023-06-04T06:59:09.001336Z"
        },
        "id": "O7kY0v23QJGO"
      },
      "outputs": [],
      "source": [
        "# Download data and extract it to folder\n",
        "\n",
        "get_data_extract()"
      ]
    },
    {
      "cell_type": "markdown",
      "metadata": {
        "_uuid": "5f65273b9b9b58da245745c82ac6cc5dfa54eeda",
        "id": "eQr6hmptQe6q"
      },
      "source": [
        "### **Understand dataset structure and files**"
      ]
    },
    {
      "cell_type": "code",
      "execution_count": null,
      "metadata": {
        "_uuid": "7ceb7f04d55f3d1510a03868713e773e7df17046",
        "execution": {
          "iopub.execute_input": "2023-06-04T06:59:09.014492Z",
          "iopub.status.busy": "2023-06-04T06:59:09.013925Z",
          "iopub.status.idle": "2023-06-04T06:59:09.995160Z",
          "shell.execute_reply": "2023-06-04T06:59:09.994272Z",
          "shell.execute_reply.started": "2023-06-04T06:59:09.014161Z"
        },
        "id": "7wJ_OH1DQyrd"
      },
      "outputs": [],
      "source": [
        "# Check the extracted dataset folder\n",
        "!ls food-101/"
      ]
    },
    {
      "cell_type": "code",
      "execution_count": null,
      "metadata": {
        "_uuid": "9a3e091f8d5db4be5a553a2fd23970dde7c649f2",
        "execution": {
          "iopub.execute_input": "2023-06-04T06:59:09.996968Z",
          "iopub.status.busy": "2023-06-04T06:59:09.996667Z",
          "iopub.status.idle": "2023-06-04T06:59:10.022544Z",
          "shell.execute_reply": "2023-06-04T06:59:10.021662Z",
          "shell.execute_reply.started": "2023-06-04T06:59:09.996915Z"
        },
        "id": "yy_pAK35Rbdi"
      },
      "outputs": [],
      "source": [
        "os.listdir('food-101/images')"
      ]
    },
    {
      "cell_type": "code",
      "execution_count": null,
      "metadata": {
        "_uuid": "c3f4490c55a470c25cf5f92f131f21701782e645",
        "execution": {
          "iopub.execute_input": "2023-06-04T06:59:10.024504Z",
          "iopub.status.busy": "2023-06-04T06:59:10.023969Z",
          "iopub.status.idle": "2023-06-04T06:59:10.034272Z",
          "shell.execute_reply": "2023-06-04T06:59:10.033180Z",
          "shell.execute_reply.started": "2023-06-04T06:59:10.024204Z"
        },
        "id": "jdIDm6tkSwqY"
      },
      "outputs": [],
      "source": [
        "os.listdir('food-101/meta')"
      ]
    },
    {
      "cell_type": "code",
      "execution_count": null,
      "metadata": {
        "_uuid": "d938790622795157c456e6411999c571ccf64abe",
        "execution": {
          "iopub.execute_input": "2023-06-04T06:59:10.036450Z",
          "iopub.status.busy": "2023-06-04T06:59:10.035744Z",
          "iopub.status.idle": "2023-06-04T06:59:10.997999Z",
          "shell.execute_reply": "2023-06-04T06:59:10.997046Z",
          "shell.execute_reply.started": "2023-06-04T06:59:10.035979Z"
        },
        "id": "55WJA5RTQtuL"
      },
      "outputs": [],
      "source": [
        "!head food-101/meta/train.txt"
      ]
    },
    {
      "cell_type": "code",
      "execution_count": null,
      "metadata": {
        "_uuid": "2f606b4a970498cf9303c2d393605494b51bc3f6",
        "execution": {
          "iopub.execute_input": "2023-06-04T06:59:11.000076Z",
          "iopub.status.busy": "2023-06-04T06:59:10.999750Z",
          "iopub.status.idle": "2023-06-04T06:59:11.957430Z",
          "shell.execute_reply": "2023-06-04T06:59:11.956409Z",
          "shell.execute_reply.started": "2023-06-04T06:59:11.000018Z"
        },
        "id": "a3yfov0gQocW"
      },
      "outputs": [],
      "source": [
        "!head food-101/meta/classes.txt"
      ]
    },
    {
      "cell_type": "markdown",
      "metadata": {
        "_uuid": "4af37d46992f3b2aa7b74efcb5102751b167914e",
        "id": "motIEZu_TVih"
      },
      "source": [
        "### **Visualize random image from each of the 101 classes**"
      ]
    },
    {
      "cell_type": "code",
      "execution_count": null,
      "metadata": {
        "_uuid": "da6910e8bb064b76c17e07f0a2e0e23ebdefbbfa",
        "execution": {
          "iopub.execute_input": "2023-06-04T06:59:11.960144Z",
          "iopub.status.busy": "2023-06-04T06:59:11.959810Z",
          "iopub.status.idle": "2023-06-04T06:59:43.923419Z",
          "shell.execute_reply": "2023-06-04T06:59:43.922298Z",
          "shell.execute_reply.started": "2023-06-04T06:59:11.960090Z"
        },
        "id": "Jfif27Pr5KEn"
      },
      "outputs": [],
      "source": [
        "# Visualize the data, showing one image per class from 101 classes\n",
        "rows = 17\n",
        "cols = 6\n",
        "fig, ax = plt.subplots(rows, cols, figsize=(25,25))\n",
        "fig.suptitle(\"Showing one random image from each class\", y=1.05, fontsize=24) # Adding  y=1.05, fontsize=24 helped me fix the suptitle overlapping with axes issue\n",
        "data_dir = \"food-101/images/\"\n",
        "foods_sorted = sorted(os.listdir(data_dir))\n",
        "food_id = 0\n",
        "for i in range(rows):\n",
        "  for j in range(cols):\n",
        "    try:\n",
        "      food_selected = foods_sorted[food_id]\n",
        "      food_id += 1\n",
        "    except:\n",
        "      break\n",
        "    if food_selected == '.DS_Store':\n",
        "        continue\n",
        "    food_selected_images = os.listdir(os.path.join(data_dir,food_selected)) # returns the list of all files present in each food category\n",
        "    food_selected_random = np.random.choice(food_selected_images) # picks one food item from the list as choice, takes a list and returns one random item\n",
        "    img = plt.imread(os.path.join(data_dir,food_selected, food_selected_random))\n",
        "    ax[i][j].imshow(img)\n",
        "    ax[i][j].set_title(food_selected, pad = 10)\n",
        "\n",
        "plt.setp(ax, xticks=[],yticks=[])\n",
        "plt.tight_layout()\n",
        "# https://matplotlib.org/users/tight_layout_guide.html\n"
      ]
    },
    {
      "cell_type": "markdown",
      "metadata": {
        "_uuid": "7a8300cde1146c50e672079b44346e723d813702",
        "id": "KIgareCETmct"
      },
      "source": [
        "### **Split the image data into train and test using train.txt and test.txt**"
      ]
    },
    {
      "cell_type": "code",
      "execution_count": null,
      "metadata": {
        "_uuid": "d6c87e52c1af18e3243f1cb72b5834941828b286",
        "execution": {
          "iopub.execute_input": "2023-06-04T06:59:43.925067Z",
          "iopub.status.busy": "2023-06-04T06:59:43.924842Z",
          "iopub.status.idle": "2023-06-04T06:59:43.933479Z",
          "shell.execute_reply": "2023-06-04T06:59:43.932720Z",
          "shell.execute_reply.started": "2023-06-04T06:59:43.925024Z"
        },
        "id": "xB0XMUX_5KMQ"
      },
      "outputs": [],
      "source": [
        "# Helper method to split dataset into train and test folders\n",
        "def prepare_data(filepath, src,dest):\n",
        "  classes_images = defaultdict(list)\n",
        "  with open(filepath, 'r') as txt:\n",
        "      paths = [read.strip() for read in txt.readlines()]\n",
        "      for p in paths:\n",
        "        food = p.split('/')\n",
        "        classes_images[food[0]].append(food[1] + '.jpg')\n",
        "\n",
        "  for food in classes_images.keys():\n",
        "    print(\"\\nCopying images into \",food)\n",
        "    if not os.path.exists(os.path.join(dest,food)):\n",
        "      os.makedirs(os.path.join(dest,food))\n",
        "    for i in classes_images[food]:\n",
        "      copy(os.path.join(src,food,i), os.path.join(dest,food,i))\n",
        "  print(\"Copying Done!\")"
      ]
    },
    {
      "cell_type": "code",
      "execution_count": null,
      "metadata": {
        "_uuid": "786cdb3d60ebcdddb4c2875f9e0b4508c5210fc1",
        "execution": {
          "iopub.execute_input": "2023-06-04T06:59:43.935388Z",
          "iopub.status.busy": "2023-06-04T06:59:43.934799Z",
          "iopub.status.idle": "2023-06-04T07:06:32.839923Z",
          "shell.execute_reply": "2023-06-04T07:06:32.839094Z",
          "shell.execute_reply.started": "2023-06-04T06:59:43.935339Z"
        },
        "id": "LSgcYcqy5KUd"
      },
      "outputs": [],
      "source": [
        "# Prepare train dataset by copying images from food-101/images to food-101/train using the file train.txt\n",
        "print(\"Creating train data...\")\n",
        "prepare_data('/food-101/food-101/meta/train.txt', '/food-101/food-101/images', 'train')"
      ]
    },
    {
      "cell_type": "code",
      "execution_count": null,
      "metadata": {
        "_uuid": "ba85577e0ef10c768e000ecf32dee36566d52599",
        "execution": {
          "iopub.execute_input": "2023-06-04T07:06:32.841603Z",
          "iopub.status.busy": "2023-06-04T07:06:32.841299Z",
          "iopub.status.idle": "2023-06-04T07:08:48.616920Z",
          "shell.execute_reply": "2023-06-04T07:08:48.616075Z",
          "shell.execute_reply.started": "2023-06-04T07:06:32.841553Z"
        },
        "id": "JI65wZgT5Kb-"
      },
      "outputs": [],
      "source": [
        "# Prepare test data by copying images from food-101/images to food-101/test using the file test.txt\n",
        "print(\"Creating test data...\")\n",
        "prepare_data('food-101/food-101/meta/test.txt', 'food-101/food-101/images', 'test')"
      ]
    },
    {
      "cell_type": "code",
      "execution_count": null,
      "metadata": {
        "_uuid": "b5a96c42b2af54aa994b86a58d2657b81786381b",
        "execution": {
          "iopub.execute_input": "2023-06-04T07:08:48.618895Z",
          "iopub.status.busy": "2023-06-04T07:08:48.618604Z",
          "iopub.status.idle": "2023-06-04T07:08:49.628239Z",
          "shell.execute_reply": "2023-06-04T07:08:49.627181Z",
          "shell.execute_reply.started": "2023-06-04T07:08:48.618846Z"
        },
        "id": "Xccc8PJP5K1G"
      },
      "outputs": [],
      "source": [
        "# Check how many files are in the train folder\n",
        "print(\"Total number of samples in train folder\")\n",
        "!find train -type d -or -type f -printf '.' | wc -c"
      ]
    },
    {
      "cell_type": "code",
      "execution_count": null,
      "metadata": {
        "_uuid": "492bb30a200d6cde501fbe2a6424c1c05a67c2e8",
        "execution": {
          "iopub.execute_input": "2023-06-04T07:08:49.632097Z",
          "iopub.status.busy": "2023-06-04T07:08:49.631833Z",
          "iopub.status.idle": "2023-06-04T07:08:50.655474Z",
          "shell.execute_reply": "2023-06-04T07:08:50.654524Z",
          "shell.execute_reply.started": "2023-06-04T07:08:49.632048Z"
        },
        "id": "Iz3fjQw25K3-"
      },
      "outputs": [],
      "source": [
        "# Check how many files are in the test folder\n",
        "print(\"Total number of samples in test folder\")\n",
        "!find test -type d -or -type f -printf '.' | wc -c"
      ]
    },
    {
      "cell_type": "code",
      "execution_count": null,
      "metadata": {
        "execution": {
          "iopub.execute_input": "2023-06-04T07:08:50.659401Z",
          "iopub.status.busy": "2023-06-04T07:08:50.659115Z",
          "iopub.status.idle": "2023-06-04T07:08:50.667241Z",
          "shell.execute_reply": "2023-06-04T07:08:50.666204Z",
          "shell.execute_reply.started": "2023-06-04T07:08:50.659352Z"
        },
        "id": "0wltpfx_VIt5"
      },
      "outputs": [],
      "source": [
        "os.chdir('/')"
      ]
    },
    {
      "cell_type": "markdown",
      "metadata": {
        "_uuid": "b7ee945bd17a45706d665517a51f5adc1b6b9106",
        "id": "O5rLWIHpUGWf"
      },
      "source": [
        "### **Create a subset of data with few classes(3) - train_mini and test_mini for experimenting**"
      ]
    },
    {
      "cell_type": "code",
      "execution_count": null,
      "metadata": {
        "_uuid": "27bf6dfb6b5c0a01efaad5de5ac90301663e84ca",
        "execution": {
          "iopub.execute_input": "2023-06-04T07:08:50.670489Z",
          "iopub.status.busy": "2023-06-04T07:08:50.668937Z",
          "iopub.status.idle": "2023-06-04T07:08:50.855809Z",
          "shell.execute_reply": "2023-06-04T07:08:50.854697Z",
          "shell.execute_reply.started": "2023-06-04T07:08:50.670428Z"
        },
        "id": "b9i8vGHYKO-g"
      },
      "outputs": [],
      "source": [
        "# List of all 101 types of foods(sorted alphabetically)\n",
        "del foods_sorted[0] # remove .DS_Store from the list"
      ]
    },
    {
      "cell_type": "code",
      "execution_count": null,
      "metadata": {
        "_uuid": "61dfaaf6466e5677c0c732c9133561e27d048ef0",
        "execution": {
          "iopub.execute_input": "2023-06-04T07:08:50.857226Z",
          "iopub.status.busy": "2023-06-04T07:08:50.856967Z",
          "iopub.status.idle": "2023-06-04T07:08:50.870569Z",
          "shell.execute_reply": "2023-06-04T07:08:50.869637Z",
          "shell.execute_reply.started": "2023-06-04T07:08:50.857177Z"
        },
        "id": "A7EelUpvVIt5"
      },
      "outputs": [],
      "source": [
        "foods_sorted"
      ]
    },
    {
      "cell_type": "code",
      "execution_count": null,
      "metadata": {
        "_uuid": "6101991b0ff433a76afdc2cb99c021862c83860e",
        "execution": {
          "iopub.execute_input": "2023-06-04T07:08:50.873157Z",
          "iopub.status.busy": "2023-06-04T07:08:50.872927Z",
          "iopub.status.idle": "2023-06-04T07:08:50.878862Z",
          "shell.execute_reply": "2023-06-04T07:08:50.877833Z",
          "shell.execute_reply.started": "2023-06-04T07:08:50.873111Z"
        },
        "id": "tYyJGTJ6J9CP"
      },
      "outputs": [],
      "source": [
        "# Helper method to create train_mini and test_mini data samples\n",
        "def dataset_mini(food_list, src, dest):\n",
        "  if os.path.exists(dest):\n",
        "    rmtree(dest) # removing dataset_mini(if it already exists) folders so that we will have only the classes that we want\n",
        "  os.makedirs(dest)\n",
        "  for food_item in food_list :\n",
        "    print(\"Copying images into\",food_item)\n",
        "    copytree(os.path.join(src,food_item), os.path.join(dest,food_item))\n",
        ""
      ]
    },
    {
      "cell_type": "code",
      "execution_count": null,
      "metadata": {
        "_uuid": "71c58df71a49e4e0e2e0bfe6359602c92c2f2306",
        "execution": {
          "iopub.execute_input": "2023-06-04T07:08:50.880824Z",
          "iopub.status.busy": "2023-06-04T07:08:50.880261Z",
          "iopub.status.idle": "2023-06-04T07:08:50.888049Z",
          "shell.execute_reply": "2023-06-04T07:08:50.887204Z",
          "shell.execute_reply.started": "2023-06-04T07:08:50.880773Z"
        },
        "id": "9YAscZLV5LFK"
      },
      "outputs": [],
      "source": [
        "# picking 3 food items and generating separate data folders for the same\n",
        "food_list = ['apple_pie','pizza','omelette']\n",
        "src_train = 'train'\n",
        "dest_train = 'train_mini/'\n",
        "src_test = 'test'\n",
        "dest_test = 'test_mini/'"
      ]
    },
    {
      "cell_type": "code",
      "execution_count": null,
      "metadata": {
        "_uuid": "2a6d67301fb0a709613c1c7a3f00629c349065e3",
        "execution": {
          "iopub.execute_input": "2023-06-04T07:08:50.890091Z",
          "iopub.status.busy": "2023-06-04T07:08:50.889635Z",
          "iopub.status.idle": "2023-06-04T07:08:51.996664Z",
          "shell.execute_reply": "2023-06-04T07:08:51.995774Z",
          "shell.execute_reply.started": "2023-06-04T07:08:50.889882Z"
        },
        "id": "tvlXbJ3NoPzy"
      },
      "outputs": [],
      "source": [
        "print(\"Creating train data folder with new classes\")\n",
        "dataset_mini(food_list, src_train, dest_train)"
      ]
    },
    {
      "cell_type": "code",
      "execution_count": null,
      "metadata": {
        "_uuid": "274b3f850418d859fdc0cffbbcbf8d33bdd8789b",
        "execution": {
          "iopub.execute_input": "2023-06-04T07:08:51.998298Z",
          "iopub.status.busy": "2023-06-04T07:08:51.998019Z",
          "iopub.status.idle": "2023-06-04T07:08:52.950726Z",
          "shell.execute_reply": "2023-06-04T07:08:52.949897Z",
          "shell.execute_reply.started": "2023-06-04T07:08:51.998251Z"
        },
        "id": "t7mWJCev5LI8"
      },
      "outputs": [],
      "source": [
        "print(\"Total number of samples in train folder\")\n",
        "\n",
        "!find /kaggle/working/train_mini -type d -or -type f -printf '.' | wc -c"
      ]
    },
    {
      "cell_type": "code",
      "execution_count": null,
      "metadata": {
        "_uuid": "93fb0d0f94b56dd488ebe3e4964b9799cf5228b3",
        "execution": {
          "iopub.execute_input": "2023-06-04T07:08:52.952840Z",
          "iopub.status.busy": "2023-06-04T07:08:52.952530Z",
          "iopub.status.idle": "2023-06-04T07:08:53.112265Z",
          "shell.execute_reply": "2023-06-04T07:08:53.110858Z",
          "shell.execute_reply.started": "2023-06-04T07:08:52.952792Z"
        },
        "id": "s4aeURey5LLy"
      },
      "outputs": [],
      "source": [
        "print(\"Creating test data folder with new classes\")\n",
        "dataset_mini(food_list, src_test, dest_test)"
      ]
    },
    {
      "cell_type": "code",
      "execution_count": null,
      "metadata": {
        "_uuid": "9560f0dd98c3decf8fceed05072def71efc2462e",
        "execution": {
          "iopub.execute_input": "2023-06-04T07:08:53.114477Z",
          "iopub.status.busy": "2023-06-04T07:08:53.114018Z",
          "iopub.status.idle": "2023-06-04T07:08:54.099356Z",
          "shell.execute_reply": "2023-06-04T07:08:54.098298Z",
          "shell.execute_reply.started": "2023-06-04T07:08:53.114278Z"
        },
        "id": "LBLq_gYD5LOm"
      },
      "outputs": [],
      "source": [
        "print(\"Total number of samples in test folder\")\n",
        "!find /kaggle/working/test_mini -type d -or -type f -printf '.' | wc -c"
      ]
    },
    {
      "cell_type": "markdown",
      "metadata": {
        "_uuid": "3a9e9afbfe1fc303c23c06c27444b66988ab8e9d",
        "id": "upx61ukJiA8B"
      },
      "source": [
        "### **Fine tune ResNet50 Pretrained model using Food 101 dataset**"
      ]
    },
    {
      "cell_type": "code",
      "execution_count": null,
      "metadata": {
        "_uuid": "8d08ece78ab731f7ac8a9b4b581e42e29093bcca",
        "execution": {
          "iopub.execute_input": "2023-06-04T07:08:54.101890Z",
          "iopub.status.busy": "2023-06-04T07:08:54.101564Z",
          "iopub.status.idle": "2023-06-04T07:28:41.640338Z",
          "shell.execute_reply": "2023-06-04T07:28:41.639430Z",
          "shell.execute_reply.started": "2023-06-04T07:08:54.101840Z"
        },
        "id": "JBs1U7hZkp1U"
      },
      "outputs": [],
      "source": [
        "from tensorflow.keras.applications.resnet50 import ResNet50\n",
        "\n",
        "K.clear_session()\n",
        "n_classes = 3\n",
        "img_width, img_height = 224, 224\n",
        "train_data_dir = 'train_mini'\n",
        "validation_data_dir = 'test_mini'\n",
        "nb_train_samples = 2250 #75750\n",
        "nb_validation_samples = 750 #25250\n",
        "batch_size = 16\n",
        "\n",
        "train_datagen = ImageDataGenerator(\n",
        "    rescale=1. / 255,\n",
        "    shear_range=0.2,\n",
        "    zoom_range=0.2,\n",
        "    horizontal_flip=True)\n",
        "\n",
        "test_datagen = ImageDataGenerator(rescale=1. / 255)\n",
        "\n",
        "train_generator = train_datagen.flow_from_directory(\n",
        "    train_data_dir,\n",
        "    target_size=(img_height, img_width),\n",
        "    batch_size=batch_size,\n",
        "    class_mode='categorical')\n",
        "\n",
        "validation_generator = test_datagen.flow_from_directory(\n",
        "    validation_data_dir,\n",
        "    target_size=(img_height, img_width),\n",
        "    batch_size=batch_size,\n",
        "    class_mode='categorical')\n",
        "\n",
        "\n",
        "resnet50 = ResNet50(weights='imagenet', include_top=False)\n",
        "x = resnet50.output\n",
        "x = GlobalAveragePooling2D()(x)\n",
        "x = Dense(128,activation='relu')(x)\n",
        "x = Dropout(0.2)(x)\n",
        "\n",
        "predictions = Dense(3,kernel_regularizer=regularizers.l2(0.005), activation='softmax')(x)\n",
        "\n",
        "model = Model(inputs=resnet50.input, outputs=predictions)\n",
        "model.compile(optimizer=SGD(lr=0.0001, momentum=0.9), loss='categorical_crossentropy', metrics=['accuracy'])\n",
        "checkpointer = ModelCheckpoint(filepath='best_model_3class.hdf5', verbose=1, save_best_only=True)\n",
        "csv_logger = CSVLogger('history_3class.log')\n",
        "\n",
        "history = model.fit_generator(train_generator,\n",
        "                    steps_per_epoch = nb_train_samples // batch_size,\n",
        "                    validation_data=validation_generator,\n",
        "                    validation_steps=nb_validation_samples // batch_size,\n",
        "                    epochs=30,\n",
        "                    verbose=1,\n",
        "                    callbacks=[csv_logger, checkpointer])\n",
        "\n",
        "model.save('model_trained_3class.hdf5')"
      ]
    },
    {
      "cell_type": "code",
      "execution_count": null,
      "metadata": {
        "_uuid": "558180f917fba895b9792328b234421c097f1ba0",
        "execution": {
          "iopub.execute_input": "2023-06-04T07:28:41.641995Z",
          "iopub.status.busy": "2023-06-04T07:28:41.641712Z",
          "iopub.status.idle": "2023-06-04T07:28:41.648141Z",
          "shell.execute_reply": "2023-06-04T07:28:41.647341Z",
          "shell.execute_reply.started": "2023-06-04T07:28:41.641945Z"
        },
        "id": "IM1eWFvnVIt6"
      },
      "outputs": [],
      "source": [
        "class_map_3 = train_generator.class_indices\n",
        "class_map_3"
      ]
    },
    {
      "cell_type": "markdown",
      "metadata": {
        "_uuid": "732521c21ce35b5be0d571cbe9d392d93755671c",
        "id": "KbDzLAHGpJXQ"
      },
      "source": [
        "### **Visualize the accuracy and loss plots**"
      ]
    },
    {
      "cell_type": "code",
      "execution_count": null,
      "metadata": {
        "_uuid": "27084e072edb2c961bfa6be87d80f273d32533c2",
        "execution": {
          "iopub.execute_input": "2023-06-04T07:28:41.649938Z",
          "iopub.status.busy": "2023-06-04T07:28:41.649493Z",
          "iopub.status.idle": "2023-06-04T07:28:41.664386Z",
          "shell.execute_reply": "2023-06-04T07:28:41.663739Z",
          "shell.execute_reply.started": "2023-06-04T07:28:41.649887Z"
        },
        "id": "SjRm_AWZpPZm"
      },
      "outputs": [],
      "source": [
        "def plot_accuracy(history,title):\n",
        "    plt.title(title)\n",
        "    plt.plot(history.history['acc'])\n",
        "    plt.plot(history.history['val_acc'])\n",
        "    plt.ylabel('accuracy')\n",
        "    plt.xlabel('epoch')\n",
        "    plt.legend(['train_accuracy', 'validation_accuracy'], loc='best')\n",
        "    plt.show()\n",
        "def plot_loss(history,title):\n",
        "    plt.title(title)\n",
        "    plt.plot(history.history['loss'])\n",
        "    plt.plot(history.history['val_loss'])\n",
        "    plt.ylabel('loss')\n",
        "    plt.xlabel('epoch')\n",
        "    plt.legend(['train_loss', 'validation_loss'], loc='best')\n",
        "    plt.show()"
      ]
    },
    {
      "cell_type": "code",
      "execution_count": null,
      "metadata": {
        "_uuid": "a73c830d2fbd841c9541628061313e4fd8506a51",
        "execution": {
          "iopub.execute_input": "2023-06-04T07:28:41.666565Z",
          "iopub.status.busy": "2023-06-04T07:28:41.665927Z",
          "iopub.status.idle": "2023-06-04T07:28:42.181258Z",
          "shell.execute_reply": "2023-06-04T07:28:42.180240Z",
          "shell.execute_reply.started": "2023-06-04T07:28:41.666430Z"
        },
        "id": "GbnoYMhzVIt7"
      },
      "outputs": [],
      "source": [
        "plot_accuracy(history,'FOOD101-ResNet50')\n",
        "plot_loss(history,'FOOD101-ResNet50')"
      ]
    },
    {
      "cell_type": "markdown",
      "metadata": {
        "_uuid": "16347094046271c17a55125f5ff6bc002edc6152",
        "id": "qjeWMHrCwSoS"
      },
      "source": [
        "### **Predicting classes for new images from internet using the best trained model**"
      ]
    },
    {
      "cell_type": "code",
      "execution_count": null,
      "metadata": {
        "_uuid": "dead5f30514dd02e80463adb162ca508ca34ee74",
        "execution": {
          "iopub.execute_input": "2023-06-04T07:28:42.189832Z",
          "iopub.status.busy": "2023-06-04T07:28:42.186852Z",
          "iopub.status.idle": "2023-06-04T07:28:48.987927Z",
          "shell.execute_reply": "2023-06-04T07:28:48.987087Z",
          "shell.execute_reply.started": "2023-06-04T07:28:42.189757Z"
        },
        "id": "XBb-sj73pNc7"
      },
      "outputs": [],
      "source": [
        "%%time\n",
        "# Loading the best saved model to make predictions\n",
        "K.clear_session()\n",
        "model_best = load_model('/kaggle/working/best_model_3class.hdf5',compile = False)"
      ]
    },
    {
      "cell_type": "code",
      "execution_count": null,
      "metadata": {
        "_uuid": "310fae2c5342c7f432962c4b2e90f09724b5d2c2",
        "execution": {
          "iopub.execute_input": "2023-06-04T07:28:48.989605Z",
          "iopub.status.busy": "2023-06-04T07:28:48.989292Z",
          "iopub.status.idle": "2023-06-04T07:28:48.996357Z",
          "shell.execute_reply": "2023-06-04T07:28:48.995547Z",
          "shell.execute_reply.started": "2023-06-04T07:28:48.989550Z"
        },
        "id": "5MIBtyj1pFoK"
      },
      "outputs": [],
      "source": [
        "def predict_class(model, images, show = True):\n",
        "  for img in images:\n",
        "    img = image.load_img(img, target_size=(224, 224))\n",
        "    img = image.img_to_array(img)\n",
        "    img = np.expand_dims(img, axis=0)\n",
        "    img /= 255.\n",
        "\n",
        "    pred = model.predict(img)\n",
        "    index = np.argmax(pred)\n",
        "    food_list.sort()\n",
        "    pred_value = food_list[index]\n",
        "    if show:\n",
        "        plt.imshow(img[0])\n",
        "        plt.axis('off')\n",
        "        plt.title(pred_value)\n",
        "        plt.show()"
      ]
    },
    {
      "cell_type": "code",
      "execution_count": null,
      "metadata": {
        "_uuid": "75bf083ef761963365a06ed543ac4c33d048ba52",
        "execution": {
          "iopub.execute_input": "2023-06-04T07:28:59.354184Z",
          "iopub.status.busy": "2023-06-04T07:28:59.353335Z",
          "iopub.status.idle": "2023-06-04T07:29:00.911485Z",
          "shell.execute_reply": "2023-06-04T07:29:00.910451Z",
          "shell.execute_reply.started": "2023-06-04T07:28:59.354131Z"
        },
        "id": "uzLVocClxD0f"
      },
      "outputs": [],
      "source": [
        "# Make a list of downloaded images and test the trained model\n",
        "images = []\n",
        "images.append('applepie.jpg')\n",
        "images.append('pizza.jpg')\n",
        "images.append('omelette.jpg')\n",
        "predict_class(model_best, images, True)"
      ]
    },
    {
      "cell_type": "markdown",
      "metadata": {
        "_uuid": "d36d6ce06a0de7243311e17b866d5e60c4f7641b",
        "id": "rdaEgO6F7SBK"
      },
      "source": [
        "### **Fine tune ResNet50 model with 11 classes of data**"
      ]
    },
    {
      "cell_type": "code",
      "execution_count": null,
      "metadata": {
        "_uuid": "43528bc9794091be03f6d4480a8a6a14ce58a1eb",
        "execution": {
          "iopub.execute_input": "2023-06-04T07:29:00.919484Z",
          "iopub.status.busy": "2023-06-04T07:29:00.913151Z",
          "iopub.status.idle": "2023-06-04T07:29:00.925474Z",
          "shell.execute_reply": "2023-06-04T07:29:00.924380Z",
          "shell.execute_reply.started": "2023-06-04T07:29:00.919409Z"
        },
        "id": "EUe06wqASS1s"
      },
      "outputs": [],
      "source": [
        "# Helper function to select n random food classes\n",
        "def pick_n_random_classes(n):\n",
        "  food_list = []\n",
        "  random_food_indices = random.sample(range(len(foods_sorted)),n) # We are picking n random food classes\n",
        "  for i in random_food_indices:\n",
        "    food_list.append(foods_sorted[i])\n",
        "  food_list.sort()\n",
        "  return food_list"
      ]
    },
    {
      "cell_type": "code",
      "execution_count": null,
      "metadata": {
        "_uuid": "b3088cb98adad92a14b1c8e656991ce9e2854726",
        "execution": {
          "iopub.execute_input": "2023-06-04T07:29:00.927709Z",
          "iopub.status.busy": "2023-06-04T07:29:00.927166Z",
          "iopub.status.idle": "2023-06-04T07:29:00.937888Z",
          "shell.execute_reply": "2023-06-04T07:29:00.937098Z",
          "shell.execute_reply.started": "2023-06-04T07:29:00.927658Z"
        },
        "id": "b1DiwFi3SSrV"
      },
      "outputs": [],
      "source": [
        "# Lets try with more classes than just 3. Also, this time lets randomly pick the food classes\n",
        "n = 11\n",
        "food_list = pick_n_random_classes(n)\n",
        "food_list = ['apple_pie', 'beef_carpaccio', 'bibimbap', 'cup_cakes', 'foie_gras', 'french_fries', 'garlic_bread', 'pizza', 'spring_rolls', 'spaghetti_carbonara', 'strawberry_shortcake']\n",
        "print(\"These are the randomly picked food classes we will be training the model on...\\n\", food_list)"
      ]
    },
    {
      "cell_type": "code",
      "execution_count": null,
      "metadata": {
        "_uuid": "adfc9bddef628878eb90259c2bdaf2ce3411b832",
        "execution": {
          "iopub.execute_input": "2023-06-04T07:29:00.942364Z",
          "iopub.status.busy": "2023-06-04T07:29:00.939095Z",
          "iopub.status.idle": "2023-06-04T07:29:06.993053Z",
          "shell.execute_reply": "2023-06-04T07:29:06.992104Z",
          "shell.execute_reply.started": "2023-06-04T07:29:00.939296Z"
        },
        "id": "eyfKi0kqZQVo"
      },
      "outputs": [],
      "source": [
        "# Create the new data subset of n classes\n",
        "print(\"Creating training data folder with new classes...\")\n",
        "dataset_mini(food_list, src_train, dest_train)"
      ]
    },
    {
      "cell_type": "code",
      "execution_count": null,
      "metadata": {
        "_uuid": "8ac366a77d7dd10f46a34bd9c48b63d308e756af",
        "execution": {
          "iopub.execute_input": "2023-06-04T07:29:06.994618Z",
          "iopub.status.busy": "2023-06-04T07:29:06.994298Z",
          "iopub.status.idle": "2023-06-04T07:29:07.999753Z",
          "shell.execute_reply": "2023-06-04T07:29:07.998821Z",
          "shell.execute_reply.started": "2023-06-04T07:29:06.994560Z"
        },
        "id": "_qdfhtWQZQeW"
      },
      "outputs": [],
      "source": [
        "print(\"Total number of samples in train folder\")\n",
        "!find train_mini/ -type d -or -type f -printf '.' | wc -c"
      ]
    },
    {
      "cell_type": "code",
      "execution_count": null,
      "metadata": {
        "_uuid": "353e712c762462d2051c86ed0a4b9ae54303ca23",
        "execution": {
          "iopub.execute_input": "2023-06-04T07:29:08.001864Z",
          "iopub.status.busy": "2023-06-04T07:29:08.001553Z",
          "iopub.status.idle": "2023-06-04T07:29:08.750618Z",
          "shell.execute_reply": "2023-06-04T07:29:08.749767Z",
          "shell.execute_reply.started": "2023-06-04T07:29:08.001815Z"
        },
        "id": "kVyZYEVyZQm4"
      },
      "outputs": [],
      "source": [
        "print(\"Creating test data folder with new classes\")\n",
        "dataset_mini(food_list, src_test, dest_test)"
      ]
    },
    {
      "cell_type": "code",
      "execution_count": null,
      "metadata": {
        "_uuid": "ed15e0d8e8cdcd29f4c264883322196b797d9084",
        "execution": {
          "iopub.execute_input": "2023-06-04T07:29:08.756963Z",
          "iopub.status.busy": "2023-06-04T07:29:08.754815Z",
          "iopub.status.idle": "2023-06-04T07:29:09.965123Z",
          "shell.execute_reply": "2023-06-04T07:29:09.963978Z",
          "shell.execute_reply.started": "2023-06-04T07:29:08.756911Z"
        },
        "id": "_hP14tE0ZQvH"
      },
      "outputs": [],
      "source": [
        "print(\"Total number of samples in test folder\")\n",
        "!find test_mini/ -type d -or -type f -printf '.' | wc -c"
      ]
    },
    {
      "cell_type": "code",
      "execution_count": null,
      "metadata": {
        "_uuid": "b94f4380c22c8118e9589f6f5dcdba84fe0484b4",
        "execution": {
          "iopub.execute_input": "2023-06-04T07:29:09.981445Z",
          "iopub.status.busy": "2023-06-04T07:29:09.977302Z",
          "iopub.status.idle": "2023-06-04T08:43:07.516290Z",
          "shell.execute_reply": "2023-06-04T08:43:07.515418Z",
          "shell.execute_reply.started": "2023-06-04T07:29:09.981385Z"
        },
        "id": "SyoYObOKZQ4j"
      },
      "outputs": [],
      "source": [
        "# Let's use a pretrained Inceptionv3 model on subset of data with 11 food classes\n",
        "K.clear_session()\n",
        "\n",
        "n_classes = n\n",
        "img_width, img_height = 224, 224\n",
        "train_data_dir = 'train_mini'\n",
        "validation_data_dir = 'test_mini'\n",
        "nb_train_samples = 8250 #75750\n",
        "nb_validation_samples = 2750 #25250\n",
        "batch_size = 16\n",
        "\n",
        "train_datagen = ImageDataGenerator(\n",
        "    rescale=1. / 255,\n",
        "    shear_range=0.2,\n",
        "    zoom_range=0.2,\n",
        "    horizontal_flip=True)\n",
        "\n",
        "test_datagen = ImageDataGenerator(rescale=1. / 255)\n",
        "\n",
        "train_generator = train_datagen.flow_from_directory(\n",
        "    train_data_dir,\n",
        "    target_size=(img_height, img_width),\n",
        "    batch_size=batch_size,\n",
        "    class_mode='categorical')\n",
        "\n",
        "validation_generator = test_datagen.flow_from_directory(\n",
        "    validation_data_dir,\n",
        "    target_size=(img_height, img_width),\n",
        "    batch_size=batch_size,\n",
        "    class_mode='categorical')\n",
        "\n",
        "\n",
        "resnet50 = ResNet50(weights='imagenet', include_top=False)\n",
        "x = resnet50.output\n",
        "x = GlobalAveragePooling2D()(x)\n",
        "x = Dense(128,activation='relu')(x)\n",
        "x = Dropout(0.2)(x)\n",
        "\n",
        "predictions = Dense(n,kernel_regularizer=regularizers.l2(0.005), activation='softmax')(x)\n",
        "\n",
        "model = Model(inputs=resnet50.input, outputs=predictions)\n",
        "model.compile(optimizer=SGD(lr=0.0001, momentum=0.9), loss='categorical_crossentropy', metrics=['accuracy'])\n",
        "checkpointer = ModelCheckpoint(filepath='best_model_11class.hdf5', verbose=1, save_best_only=True)\n",
        "csv_logger = CSVLogger('history_11class.log')\n",
        "\n",
        "history_11class = model.fit_generator(train_generator,\n",
        "                    steps_per_epoch = nb_train_samples // batch_size,\n",
        "                    validation_data=validation_generator,\n",
        "                    validation_steps=nb_validation_samples // batch_size,\n",
        "                    epochs=30,\n",
        "                    verbose=1,\n",
        "                    callbacks=[csv_logger, checkpointer])\n",
        "\n",
        "model.save('model_trained_11class.hdf5')"
      ]
    },
    {
      "cell_type": "code",
      "execution_count": null,
      "metadata": {
        "_uuid": "6280805e09902ca1b11772a2d5c942d2edcca5d4",
        "execution": {
          "iopub.execute_input": "2023-06-04T08:43:07.518197Z",
          "iopub.status.busy": "2023-06-04T08:43:07.517900Z",
          "iopub.status.idle": "2023-06-04T08:43:07.527175Z",
          "shell.execute_reply": "2023-06-04T08:43:07.526257Z",
          "shell.execute_reply.started": "2023-06-04T08:43:07.518149Z"
        },
        "id": "WFCRHYrCVIuL"
      },
      "outputs": [],
      "source": [
        "class_map_11 = train_generator.class_indices\n",
        "class_map_11"
      ]
    },
    {
      "cell_type": "code",
      "execution_count": null,
      "metadata": {
        "_uuid": "0bd7c9c273e27e7452a06fe54b1875741a1e033a",
        "execution": {
          "iopub.execute_input": "2023-06-04T08:43:07.529045Z",
          "iopub.status.busy": "2023-06-04T08:43:07.528588Z",
          "iopub.status.idle": "2023-06-04T08:43:08.047126Z",
          "shell.execute_reply": "2023-06-04T08:43:08.046096Z",
          "shell.execute_reply.started": "2023-06-04T08:43:07.528837Z"
        },
        "id": "9j6jD5Ny9Mvh"
      },
      "outputs": [],
      "source": [
        "plot_accuracy(history_11class,'FOOD101-ResNet50')\n",
        "plot_loss(history_11class,'FOOD101-ResNet50')"
      ]
    },
    {
      "cell_type": "code",
      "execution_count": null,
      "metadata": {
        "_uuid": "ef4ab1c2f8402dd1bf1af334e8bc97c9eec2e776",
        "execution": {
          "iopub.execute_input": "2023-06-04T08:43:08.055553Z",
          "iopub.status.busy": "2023-06-04T08:43:08.052598Z",
          "iopub.status.idle": "2023-06-04T08:43:15.116572Z",
          "shell.execute_reply": "2023-06-04T08:43:15.115735Z",
          "shell.execute_reply.started": "2023-06-04T08:43:08.055459Z"
        },
        "id": "BAXYCwWF8TmY"
      },
      "outputs": [],
      "source": [
        "%%time\n",
        "# Loading the best saved model to make predictions\n",
        "K.clear_session()\n",
        "model_best = load_model('/kaggle/working/best_model_11class.hdf5',compile = False)"
      ]
    },
    {
      "cell_type": "code",
      "execution_count": null,
      "metadata": {
        "_uuid": "f2be475f3d5bf5146f4c02950faa363a9c8a50ff",
        "execution": {
          "iopub.execute_input": "2023-06-04T08:43:18.751056Z",
          "iopub.status.busy": "2023-06-04T08:43:18.750740Z",
          "iopub.status.idle": "2023-06-04T08:43:20.144263Z",
          "shell.execute_reply": "2023-06-04T08:43:20.143152Z",
          "shell.execute_reply.started": "2023-06-04T08:43:18.751008Z"
        },
        "id": "HAFb8xSj9Ygn"
      },
      "outputs": [],
      "source": [
        "# Make a list of downloaded images and test the trained model\n",
        "images = []\n",
        "images.append('cupcakes.jpg')\n",
        "# images.append('pizza.jpg')\n",
        "images.append('springrolls.jpg')\n",
        "images.append('garlicbread.jpg')\n",
        "predict_class(model_best, images, True)"
      ]
    },
    {
      "cell_type": "code",
      "execution_count": null,
      "metadata": {
        "execution": {
          "iopub.execute_input": "2023-06-04T08:43:20.153740Z",
          "iopub.status.busy": "2023-06-04T08:43:20.153121Z",
          "iopub.status.idle": "2023-06-04T08:43:23.860892Z",
          "shell.execute_reply": "2023-06-04T08:43:23.859759Z",
          "shell.execute_reply.started": "2023-06-04T08:43:20.153686Z"
        },
        "id": "--7ATJZKVIuM"
      },
      "outputs": [],
      "source": [
        "tf.keras.utils.plot_model(model, to_file='model_plot.png', show_shapes=True, show_layer_names=True)"
      ]
    }
  ],
  "metadata": {
    "accelerator": "GPU",
    "colab": {
      "provenance": []
    },
    "kernelspec": {
      "display_name": "Python 3 (ipykernel)",
      "language": "python",
      "name": "python3"
    },
    "language_info": {
      "codemirror_mode": {
        "name": "ipython",
        "version": 3
      },
      "file_extension": ".py",
      "mimetype": "text/x-python",
      "name": "python",
      "nbconvert_exporter": "python",
      "pygments_lexer": "ipython3",
      "version": "3.11.4"
    }
  },
  "nbformat": 4,
  "nbformat_minor": 0
}