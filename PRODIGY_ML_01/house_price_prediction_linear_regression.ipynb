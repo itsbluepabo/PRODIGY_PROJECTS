{
  "nbformat": 4,
  "nbformat_minor": 0,
  "metadata": {
    "colab": {
      "provenance": []
    },
    "kernelspec": {
      "name": "python3",
      "display_name": "Python 3"
    },
    "language_info": {
      "name": "python"
    }
  },
  "cells": [
    {
      "cell_type": "code",
      "source": [
        "# Import Libraries\n",
        "import pandas as pd\n",
        "from sklearn.model_selection import train_test_split\n",
        "from sklearn.linear_model import LinearRegression\n",
        "from sklearn.metrics import mean_squared_error, r2_score\n",
        "from sklearn.preprocessing import StandardScaler\n",
        "import matplotlib.pyplot as plt"
      ],
      "metadata": {
        "id": "m4bx08Q0u5-p"
      },
      "execution_count": null,
      "outputs": []
    },
    {
      "cell_type": "code",
      "source": [
        "# Load Data\n",
        "df = pd.read_csv('train.csv')"
      ],
      "metadata": {
        "id": "wHlywi_hu563"
      },
      "execution_count": null,
      "outputs": []
    },
    {
      "cell_type": "code",
      "source": [
        "# Select Features and Target\n",
        "features = [\"GrLivArea\", \"BedroomAbvGr\", \"FullBath\"]\n",
        "X = df[features]\n",
        "y = df[\"SalePrice\"]"
      ],
      "metadata": {
        "id": "Smkp0rLmu52Q"
      },
      "execution_count": null,
      "outputs": []
    },
    {
      "cell_type": "code",
      "source": [
        "# Scale Features\n",
        "scaler = StandardScaler()\n",
        "X_scaled = scaler.fit_transform(X)"
      ],
      "metadata": {
        "id": "ApFFWcVWu5wX"
      },
      "execution_count": null,
      "outputs": []
    },
    {
      "cell_type": "code",
      "source": [
        "# Split Data\n",
        "X_train, X_test, y_train, y_test = train_test_split(X_scaled, y, test_size=0.2, random_state=42)"
      ],
      "metadata": {
        "id": "4qzTPA1pu5qz"
      },
      "execution_count": null,
      "outputs": []
    },
    {
      "cell_type": "code",
      "source": [
        "# Train Model\n",
        "model = LinearRegression()\n",
        "model.fit(X_train, y_train)"
      ],
      "metadata": {
        "id": "y-0bzq1Uu5nJ"
      },
      "execution_count": null,
      "outputs": []
    },
    {
      "cell_type": "code",
      "source": [
        "# Make Predictions\n",
        "y_pred = model.predict(X_test)"
      ],
      "metadata": {
        "id": "WdyG8SkIu5jZ"
      },
      "execution_count": null,
      "outputs": []
    },
    {
      "cell_type": "code",
      "source": [
        "# Evaluate Model\n",
        "mse = mean_squared_error(y_test, y_pred)\n",
        "r2 = r2_score(y_test, y_pred)\n",
        "print(f'Mean Squared Error: {mse}')\n",
        "print(f'R2 Score: {r2}')\n"
      ],
      "metadata": {
        "id": "aftom-Rdrwju"
      },
      "execution_count": null,
      "outputs": []
    },
    {
      "cell_type": "code",
      "source": [
        "# Plot Results\n",
        "plt.scatter(y_test, y_pred)\n",
        "plt.xlabel(\"Actual Values\")\n",
        "plt.ylabel(\"Predicted Values\")\n",
        "plt.title(\"Actual Prices vs Predicted Prices\")\n",
        "plt.show()\n",
        "\n"
      ],
      "metadata": {
        "id": "e5FZJVJYrwgj"
      },
      "execution_count": null,
      "outputs": []
    },
    {
      "cell_type": "code",
      "source": [
        "# Predict New Data\n",
        "new_data = pd.DataFrame({'GrLivArea': [1000], 'BedroomAbvGr': [3], 'FullBath': [2]})\n",
        "new_data_scaled = scaler.transform(new_data)\n",
        "predicted_price = model.predict(new_data_scaled)\n",
        "print(f'Predicted Price: {predicted_price[0]}')\n"
      ],
      "metadata": {
        "id": "t2piut8ArwdS",
        "colab": {
          "base_uri": "https://localhost:8080/"
        },
        "outputId": "efb4b962-e8b2-4174-eb91-c1c97c55bf00"
      },
      "execution_count": 18,
      "outputs": [
        {
          "output_type": "stream",
          "name": "stdout",
          "text": [
            "Predicted Price: 136351.20778507\n"
          ]
        }
      ]
    },
    {
      "cell_type": "code",
      "source": [
        "# Predict New Data\n",
        "new_data = pd.DataFrame({'GrLivArea': [2000], 'BedroomAbvGr': [3], 'FullBath': [2]})\n",
        "new_data_scaled = scaler.transform(new_data)\n",
        "predicted_price = model.predict(new_data_scaled)\n",
        "print(f'Predicted Price: {predicted_price[0]}')"
      ],
      "metadata": {
        "id": "PIkFHNp65Woh"
      },
      "execution_count": null,
      "outputs": []
    }
  ]
}